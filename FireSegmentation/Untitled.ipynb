{
 "cells": [
  {
   "cell_type": "code",
   "execution_count": 9,
   "id": "1521faec-1d1f-4bd2-bfed-3647dd09a4a4",
   "metadata": {},
   "outputs": [],
   "source": [
    "from utils.geodesic_distance import geodesic_distance\n",
    "\n",
    "def segmentacionDeIncendios(fuegos: list[dict], d: float, t: float) -> tuple[int,list[list[str]]]:\n",
    "  # Completar el código en esta funcion\n",
    "  # Se recomienda modularizar la solucion para hacer más claro el código\n",
    "  # Se recomienda usar la función \"geodesic_distance\" del archivo \"utils/geodesic_distance.py\"\n",
    "\n",
    "  return (2, [[\"0\", \"1\", \"2\"], [\"3\", \"4\"]])\n",
    "\n",
    "\n",
    "def ejemplo():\n",
    "  # Una vez implementado el testing, se puede eliminar esta funcion.\n",
    "  # Dejo el codigo acá para poder hacer una prueba rápida\n",
    "  fuegos: list[dict] = [\n",
    "    {\"id\": \"0\", \"x\": 0.0, \"y\": 0.0, \"time\":\"2023-01-01T00:00\"},\n",
    "    {\"id\": \"1\", \"x\": 1.0, \"y\": 0.0, \"time\":\"2023-01-01T00:00\"},\n",
    "    {\"id\": \"2\", \"x\": 0.0, \"y\": 1.0, \"time\":\"2023-01-01T00:00\"},\n",
    "    {\"id\": \"3\", \"x\": 10.0, \"y\": 10.0, \"time\":\"2023-01-01T00:00\"},\n",
    "    {\"id\": \"4\", \"x\": 10.0, \"y\": 11.0, \"time\":\"2023-01-01T00:00\"}\n",
    "  ]\n",
    "\n",
    "  d: float = 10.0\n",
    "  t: float = 60.0\n",
    "\n",
    "  print(segmentacionDeIncendios(fuegos, d, t))\n",
    "  print(group_by_distance_and_time(fuegos, d, t))\n",
    "\n",
    "\n",
    "\n",
    "#function that recieve an ar list of id, x, y and datetime and return all the items grouped by geodesic distance and time between the items\n",
    "def group_by_distance_and_time(fuegos: list[dict], d: float, t: float) -> list[list[str]]:\n",
    "    groups = [fuegos[0]]\n",
    "    for fuego in fuegos[1]:\n",
    "        added = False\n",
    "        for group in groups:\n",
    "            if geodesic_distance(fuego['x'], fuego['y'], fuegos[group[0]]['x'], fuegos[group[0]]['y']) <= d and (fuego['time'] - fuegos[group[0]]['time']).total_seconds() <= t:\n",
    "                group.append(fuego['id'])\n",
    "                added = True\n",
    "                break\n",
    "        if not added:\n",
    "            groups.append([fuego['id']])\n",
    "    return groups"
   ]
  },
  {
   "cell_type": "code",
   "execution_count": 38,
   "id": "9bb84ffb-95fd-4d9a-8118-9beeb7f97800",
   "metadata": {},
   "outputs": [],
   "source": [
    "import logging"
   ]
  },
  {
   "cell_type": "code",
   "execution_count": 10,
   "id": "af981b90-a705-48c3-b582-42e80a3c79a5",
   "metadata": {},
   "outputs": [
    {
     "name": "stdout",
     "output_type": "stream",
     "text": [
      "(2, [['0', '1', '2'], ['3', '4']])\n"
     ]
    },
    {
     "ename": "TypeError",
     "evalue": "string indices must be integers",
     "output_type": "error",
     "traceback": [
      "\u001b[0;31m---------------------------------------------------------------------------\u001b[0m",
      "\u001b[0;31mTypeError\u001b[0m                                 Traceback (most recent call last)",
      "Input \u001b[0;32mIn [10]\u001b[0m, in \u001b[0;36m<cell line: 1>\u001b[0;34m()\u001b[0m\n\u001b[0;32m----> 1\u001b[0m \u001b[43mejemplo\u001b[49m\u001b[43m(\u001b[49m\u001b[43m)\u001b[49m\n",
      "Input \u001b[0;32mIn [9]\u001b[0m, in \u001b[0;36mejemplo\u001b[0;34m()\u001b[0m\n\u001b[1;32m     23\u001b[0m t: \u001b[38;5;28mfloat\u001b[39m \u001b[38;5;241m=\u001b[39m \u001b[38;5;241m60.0\u001b[39m\n\u001b[1;32m     25\u001b[0m \u001b[38;5;28mprint\u001b[39m(segmentacionDeIncendios(fuegos, d, t))\n\u001b[0;32m---> 26\u001b[0m \u001b[38;5;28mprint\u001b[39m(\u001b[43mgroup_by_distance_and_time\u001b[49m\u001b[43m(\u001b[49m\u001b[43mfuegos\u001b[49m\u001b[43m,\u001b[49m\u001b[43m \u001b[49m\u001b[43md\u001b[49m\u001b[43m,\u001b[49m\u001b[43m \u001b[49m\u001b[43mt\u001b[49m\u001b[43m)\u001b[49m)\n",
      "Input \u001b[0;32mIn [9]\u001b[0m, in \u001b[0;36mgroup_by_distance_and_time\u001b[0;34m(fuegos, d, t)\u001b[0m\n\u001b[1;32m     34\u001b[0m added \u001b[38;5;241m=\u001b[39m \u001b[38;5;28;01mFalse\u001b[39;00m\n\u001b[1;32m     35\u001b[0m \u001b[38;5;28;01mfor\u001b[39;00m group \u001b[38;5;129;01min\u001b[39;00m groups:\n\u001b[0;32m---> 36\u001b[0m     \u001b[38;5;28;01mif\u001b[39;00m geodesic_distance(\u001b[43mfuego\u001b[49m\u001b[43m[\u001b[49m\u001b[38;5;124;43m'\u001b[39;49m\u001b[38;5;124;43mx\u001b[39;49m\u001b[38;5;124;43m'\u001b[39;49m\u001b[43m]\u001b[49m, fuego[\u001b[38;5;124m'\u001b[39m\u001b[38;5;124my\u001b[39m\u001b[38;5;124m'\u001b[39m], fuegos[group[\u001b[38;5;241m0\u001b[39m]][\u001b[38;5;124m'\u001b[39m\u001b[38;5;124mx\u001b[39m\u001b[38;5;124m'\u001b[39m], fuegos[group[\u001b[38;5;241m0\u001b[39m]][\u001b[38;5;124m'\u001b[39m\u001b[38;5;124my\u001b[39m\u001b[38;5;124m'\u001b[39m]) \u001b[38;5;241m<\u001b[39m\u001b[38;5;241m=\u001b[39m d \u001b[38;5;129;01mand\u001b[39;00m (fuego[\u001b[38;5;124m'\u001b[39m\u001b[38;5;124mtime\u001b[39m\u001b[38;5;124m'\u001b[39m] \u001b[38;5;241m-\u001b[39m fuegos[group[\u001b[38;5;241m0\u001b[39m]][\u001b[38;5;124m'\u001b[39m\u001b[38;5;124mtime\u001b[39m\u001b[38;5;124m'\u001b[39m])\u001b[38;5;241m.\u001b[39mtotal_seconds() \u001b[38;5;241m<\u001b[39m\u001b[38;5;241m=\u001b[39m t:\n\u001b[1;32m     37\u001b[0m         group\u001b[38;5;241m.\u001b[39mappend(fuego[\u001b[38;5;124m'\u001b[39m\u001b[38;5;124mid\u001b[39m\u001b[38;5;124m'\u001b[39m])\n\u001b[1;32m     38\u001b[0m         added \u001b[38;5;241m=\u001b[39m \u001b[38;5;28;01mTrue\u001b[39;00m\n",
      "\u001b[0;31mTypeError\u001b[0m: string indices must be integers"
     ]
    }
   ],
   "source": [
    "ejemplo()"
   ]
  },
  {
   "cell_type": "code",
   "execution_count": 90,
   "id": "90666996-0063-43ca-9c8a-b189a64fd9d8",
   "metadata": {},
   "outputs": [],
   "source": [
    "fuegos: list[dict] = [\n",
    "    {\"id\": \"0\", \"x\": 0.0, \"y\": 0.0, \"time\":\"2023-01-01T00:00\"},\n",
    "    {\"id\": \"2\", \"x\": 0.0, \"y\": 1.0, \"time\":\"2023-01-01T00:00\"},\n",
    "    {\"id\": \"3\", \"x\": 10.0, \"y\": 10.0, \"time\":\"2023-01-01T00:00\"},\n",
    "    {\"id\": \"4\", \"x\": 10.0, \"y\": 11.0, \"time\":\"2023-01-01T00:00\"},\n",
    "    {\"id\": \"1\", \"x\": 1.0, \"y\": 0.0, \"time\":\"2023-01-01T00:00\"}\n",
    "  ]"
   ]
  },
  {
   "cell_type": "code",
   "execution_count": 5,
   "id": "71455e69-01b3-4a0a-9b18-ed5172b0fbc9",
   "metadata": {},
   "outputs": [
    {
     "name": "stdout",
     "output_type": "stream",
     "text": [
      "0.0\n",
      "1.0\n",
      "0.0\n",
      "10.0\n",
      "10.0\n"
     ]
    }
   ],
   "source": [
    "for fuego in fuegos[1:]:\n",
    "    print(fuego['x'])"
   ]
  },
  {
   "cell_type": "code",
   "execution_count": 20,
   "id": "3aec1323-1b97-4fc1-b275-e12d59b3d15b",
   "metadata": {},
   "outputs": [],
   "source": [
    "groups = [fuegos[0]]"
   ]
  },
  {
   "cell_type": "code",
   "execution_count": 12,
   "id": "e6d604a0-48ff-4216-b8a1-6481154e3559",
   "metadata": {},
   "outputs": [
    {
     "data": {
      "text/plain": [
       "[{'id': '0', 'x': 0.0, 'y': 0.0, 'time': '2023-01-01T00:00'}]"
      ]
     },
     "execution_count": 12,
     "metadata": {},
     "output_type": "execute_result"
    }
   ],
   "source": [
    "groups"
   ]
  },
  {
   "cell_type": "code",
   "execution_count": 28,
   "id": "b0081f7d-a476-4018-af59-970fd7164bab",
   "metadata": {},
   "outputs": [
    {
     "name": "stdout",
     "output_type": "stream",
     "text": [
      "1.0\n"
     ]
    }
   ],
   "source": [
    "for group in groups:\n",
    "    if geodesic_distance(fuegos[1]['x'], fuegos[1]['y'], group['x'], group['y']) <= d\n",
    "    "
   ]
  },
  {
   "cell_type": "code",
   "execution_count": 19,
   "id": "9536a277-874e-47f4-a39f-850cd094039e",
   "metadata": {},
   "outputs": [
    {
     "data": {
      "text/plain": [
       "{'id': '0', 'x': 0.0, 'y': 0.0, 'time': '2023-01-01T00:00'}"
      ]
     },
     "execution_count": 19,
     "metadata": {},
     "output_type": "execute_result"
    }
   ],
   "source": [
    "fuegos[0]"
   ]
  },
  {
   "cell_type": "code",
   "execution_count": 26,
   "id": "128b4f03-aeb0-4243-8c4d-2f47d798337f",
   "metadata": {},
   "outputs": [],
   "source": [
    "from math import sqrt,pow\n",
    "def geodesic_distance(x1: float, y1: float, x2: float, y2: float) -> float:\n",
    "    return sqrt(pow((x1 - x2),2) + pow((y1 - y2),2))"
   ]
  },
  {
   "cell_type": "code",
   "execution_count": 98,
   "id": "97a93fe8-1389-4833-b158-72f38b3f98a0",
   "metadata": {},
   "outputs": [],
   "source": [
    "d=10\n",
    "t=60"
   ]
  },
  {
   "cell_type": "code",
   "execution_count": 99,
   "id": "be6edb63-1067-4131-9324-3dbb2fd2444b",
   "metadata": {},
   "outputs": [
    {
     "name": "stderr",
     "output_type": "stream",
     "text": [
      "WARNING:root:a fire {'id': '0', 'x': 0.0, 'y': 0.0, 'time': '2023-01-01T00:00'}\n",
      "WARNING:root:a fire between 0 and 0\n",
      "WARNING:root:distance 0.0\n",
      "WARNING:root:a fire between 0 and 2\n",
      "WARNING:root:distance 1.0\n",
      "WARNING:root:add fire to list 2\n",
      "WARNING:root:a fire between 0 and 3\n",
      "WARNING:root:distance 14.142135623730951\n",
      "WARNING:root:a fire between 0 and 4\n",
      "WARNING:root:distance 14.866068747318506\n",
      "WARNING:root:a fire between 0 and 1\n",
      "WARNING:root:distance 1.0\n",
      "WARNING:root:add fire to list 1\n",
      "WARNING:root:a fire {'id': '2', 'x': 0.0, 'y': 1.0, 'time': '2023-01-01T00:00'}\n",
      "WARNING:root:a fire between 2 and 0\n",
      "WARNING:root:distance 1.0\n",
      "WARNING:root:a fire between 2 and 2\n",
      "WARNING:root:distance 0.0\n",
      "WARNING:root:a fire between 2 and 3\n",
      "WARNING:root:distance 13.45362404707371\n",
      "WARNING:root:a fire between 2 and 4\n",
      "WARNING:root:distance 14.142135623730951\n",
      "WARNING:root:a fire between 2 and 1\n",
      "WARNING:root:distance 1.4142135623730951\n",
      "WARNING:root:a fire {'id': '3', 'x': 10.0, 'y': 10.0, 'time': '2023-01-01T00:00'}\n",
      "WARNING:root:a fire between 3 and 0\n",
      "WARNING:root:distance 14.142135623730951\n",
      "WARNING:root:a fire between 3 and 2\n",
      "WARNING:root:distance 13.45362404707371\n",
      "WARNING:root:a fire between 3 and 3\n",
      "WARNING:root:distance 0.0\n",
      "WARNING:root:add fire 3\n",
      "WARNING:root:a fire between 3 and 4\n",
      "WARNING:root:distance 1.0\n",
      "WARNING:root:add fire to list 4\n",
      "WARNING:root:a fire between 3 and 1\n",
      "WARNING:root:distance 13.45362404707371\n",
      "WARNING:root:a fire {'id': '4', 'x': 10.0, 'y': 11.0, 'time': '2023-01-01T00:00'}\n",
      "WARNING:root:a fire between 4 and 0\n",
      "WARNING:root:distance 14.866068747318506\n",
      "WARNING:root:a fire between 4 and 2\n",
      "WARNING:root:distance 14.142135623730951\n",
      "WARNING:root:a fire between 4 and 3\n",
      "WARNING:root:distance 1.0\n",
      "WARNING:root:a fire between 4 and 4\n",
      "WARNING:root:distance 0.0\n",
      "WARNING:root:a fire between 4 and 1\n",
      "WARNING:root:distance 14.212670403551895\n"
     ]
    }
   ],
   "source": [
    "fire=[[fuegos[0]['id']]]\n",
    "number_fire=0\n",
    "for fuego in fuegos[:-1]:\n",
    "    logging.warning('a fire {}'.format(fuego))\n",
    "    for new_fuego in fuegos[number_fire:]:\n",
    "        logging.warning('a fire between {} and {}'.format(fuego['id'],new_fuego['id']))\n",
    "        logging.warning('distance {}'.format(geodesic_distance(fuego['x'], fuego['y'], new_fuego['x'], new_fuego['y'])))\n",
    "        if geodesic_distance(fuego['x'], fuego['y'], new_fuego['x'], new_fuego['y']) <= d and (datetime.strptime(fuego['time'],'%Y-%m-%dT%H:%M') - datetime.strptime(new_fuego['time'],'%Y-%m-%dT%H:%M')).total_seconds() <= t:\n",
    "            fire=addFireToList(fire,fuego['id'],new_fuego['id'])\n",
    "    fire=addFireToList(fire,fuego['id'],fuego['id'])"
   ]
  },
  {
   "cell_type": "code",
   "execution_count": 62,
   "id": "e5824fb7-ee43-49f7-82c7-6eda42107643",
   "metadata": {},
   "outputs": [],
   "source": [
    "fire=[[fuegos[0]['id']]]"
   ]
  },
  {
   "cell_type": "code",
   "execution_count": 100,
   "id": "c461b6df-c1e8-427e-a5ae-0b461e0edb32",
   "metadata": {},
   "outputs": [
    {
     "data": {
      "text/plain": [
       "[['0', '2', '1'], ['3', '4']]"
      ]
     },
     "execution_count": 100,
     "metadata": {},
     "output_type": "execute_result"
    }
   ],
   "source": [
    "fire "
   ]
  },
  {
   "cell_type": "code",
   "execution_count": 37,
   "id": "517d2459-fe06-42cb-a9dc-a48ed0822e95",
   "metadata": {},
   "outputs": [
    {
     "data": {
      "text/plain": [
       "[{'id': '0', 'x': 0.0, 'y': 0.0, 'time': '2023-01-01T00:00'},\n",
       " {'id': '1', 'x': 1.0, 'y': 0.0, 'time': '2023-01-01T00:00'},\n",
       " {'id': '2', 'x': 0.0, 'y': 1.0, 'time': '2023-01-01T00:00'},\n",
       " {'id': '3', 'x': 10.0, 'y': 10.0, 'time': '2023-01-01T00:00'},\n",
       " {'id': '4', 'x': 10.0, 'y': 11.0, 'time': '2023-01-01T00:00'}]"
      ]
     },
     "execution_count": 37,
     "metadata": {},
     "output_type": "execute_result"
    }
   ],
   "source": [
    "fuegos"
   ]
  },
  {
   "cell_type": "code",
   "execution_count": 39,
   "id": "2ccda5e5-b16b-4f1d-8e50-06144be873ee",
   "metadata": {},
   "outputs": [
    {
     "name": "stderr",
     "output_type": "stream",
     "text": [
      "WARNING:root:Watch out!\n"
     ]
    }
   ],
   "source": [
    "logging.warning('Watch out!')"
   ]
  },
  {
   "cell_type": "code",
   "execution_count": 95,
   "id": "bfb8148c-310c-4cb9-8259-b11975ee2567",
   "metadata": {},
   "outputs": [],
   "source": [
    "from datetime import datetime        "
   ]
  },
  {
   "cell_type": "code",
   "execution_count": null,
   "id": "549498a9-e7c4-4ea0-925a-45797eff65c6",
   "metadata": {},
   "outputs": [],
   "source": []
  }
 ],
 "metadata": {
  "kernelspec": {
   "display_name": "Python 3 (ipykernel)",
   "language": "python",
   "name": "python3"
  },
  "language_info": {
   "codemirror_mode": {
    "name": "ipython",
    "version": 3
   },
   "file_extension": ".py",
   "mimetype": "text/x-python",
   "name": "python",
   "nbconvert_exporter": "python",
   "pygments_lexer": "ipython3",
   "version": "3.10.12"
  }
 },
 "nbformat": 4,
 "nbformat_minor": 5
}
