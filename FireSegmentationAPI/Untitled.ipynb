{
 "cells": [
  {
   "cell_type": "code",
   "execution_count": 1,
   "id": "a941d8cc-1f2e-440e-a675-7e7385b17bff",
   "metadata": {},
   "outputs": [],
   "source": [
    "#import boto3\n",
    "import json\n",
    "#from moto import mock_dynamodb\n",
    "\n",
    "#from database.init import init_db\n",
    "#from database.mockData import insert_mock_data\n",
    "from segmentation.segmentation import segmentacionDeIncendios\n",
    "#from utils.db_operations import read_table\n"
   ]
  },
  {
   "cell_type": "code",
   "execution_count": 2,
   "id": "60ac83a6-8cd7-4457-ad77-78a90650c2be",
   "metadata": {},
   "outputs": [],
   "source": [
    " datos= {'Items':[\n",
    "            {'date':'2023-01-01T06', 'id':'2023-01-01T06:56:00+41.06+-104.65', 'conf':18, 'sat':'Firesat23', 'x':-104.648015, 'y':41.060956\n",
    "            },\n",
    "            {'date':\n",
    "'2023-01-01T06', 'id':'2023-01-01T06:13:00+-14.55+109.45', 'conf':11, 'sat':'Firesat23', 'x':109.447886, 'y':-14.549427\n",
    "            },\n",
    "            {'date':'2023-01-01T07',    \n",
    "'id':'2023-01-01T07:55:00+54.46+137.85', 'conf':69, 'sat':'Firesat23', 'x':137.853579, 'y':54.464183\n",
    "            },\n",
    "            {'date':'2023-01-01T07', 'id':                \n",
    "'2023-01-01T07:32:00+-2.18+-104.37', 'conf':76, 'sat':'Firesat23', 'x':-104.370447, 'y':-2.183561\n",
    "            },\n",
    "            {'date':'2023-01-01T22', 'id':                    \n",
    "'2023-01-01T22:43:00+84.93+-46.52', 'conf':99, 'sat':'Firesat23', 'x':-46.522945, 'y':84.933049\n",
    "            },\n",
    "            {'date':'2023-01-01T11', 'id':                      \n",
    "'2023-01-01T11:02:00+-18.99+-49.27', 'conf':52, 'sat':'Firesat23', 'x':-49.265512, 'y':-18.988057\n",
    "            },\n",
    "            {'date':'2023-01-01T13', 'id':                    \n",
    "'2023-01-01T13:51:00+-67.32+7.31', 'conf':33, 'sat':'Firesat23', 'x':7.313131, 'y':-67.319258\n",
    "            }\n",
    "        ], 'Count':7, 'ScannedCount':2018, 'RetryAttempts':0\n",
    "        }\n"
   ]
  },
  {
   "cell_type": "code",
   "execution_count": 3,
   "id": "1e017f96-6da1-48c7-b40f-b913f0e9ff5d",
   "metadata": {},
   "outputs": [
    {
     "data": {
      "text/plain": [
       "(6,\n",
       " [['2023-01-01T06:56:00+41.06+-104.65'],\n",
       "  ['2023-01-01T06:13:00+-14.55+109.45'],\n",
       "  ['2023-01-01T07:55:00+54.46+137.85'],\n",
       "  ['2023-01-01T07:32:00+-2.18+-104.37'],\n",
       "  ['2023-01-01T22:43:00+84.93+-46.52'],\n",
       "  ['2023-01-01T11:02:00+-18.99+-49.27']])"
      ]
     },
     "execution_count": 3,
     "metadata": {},
     "output_type": "execute_result"
    }
   ],
   "source": [
    "segmentacionDeIncendios(datos['Items'])"
   ]
  },
  {
   "cell_type": "code",
   "execution_count": 9,
   "id": "73e323fc-68a9-4914-818a-2e1ccfb86de0",
   "metadata": {},
   "outputs": [
    {
     "data": {
      "text/plain": [
       "'2023-01-01T06:56'"
      ]
     },
     "execution_count": 9,
     "metadata": {},
     "output_type": "execute_result"
    }
   ],
   "source": [
    "datos['Items'][0]['id'][:16]"
   ]
  },
  {
   "cell_type": "code",
   "execution_count": null,
   "id": "c4448683-8e22-422b-b297-5b401a84fdd8",
   "metadata": {},
   "outputs": [],
   "source": []
  }
 ],
 "metadata": {
  "kernelspec": {
   "display_name": "Python 3 (ipykernel)",
   "language": "python",
   "name": "python3"
  },
  "language_info": {
   "codemirror_mode": {
    "name": "ipython",
    "version": 3
   },
   "file_extension": ".py",
   "mimetype": "text/x-python",
   "name": "python",
   "nbconvert_exporter": "python",
   "pygments_lexer": "ipython3",
   "version": "3.10.6"
  }
 },
 "nbformat": 4,
 "nbformat_minor": 5
}
